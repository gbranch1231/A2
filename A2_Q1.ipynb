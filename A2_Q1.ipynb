{
 "cells": [
  {
   "cell_type": "markdown",
   "metadata": {
    "nbgrader": {
     "grade": false,
     "grade_id": "q1_prompt",
     "locked": true,
     "schema_version": 1,
     "solution": false
    }
   },
   "source": [
    "# Question 1\n",
    "\n",
    "In this question, we're looking at some of the basic operations of native Python data structures and iterations."
   ]
  },
  {
   "cell_type": "markdown",
   "metadata": {
    "collapsed": true,
    "nbgrader": {
     "grade": false,
     "grade_id": "q1a_prompt",
     "locked": true,
     "schema_version": 1,
     "solution": false
    }
   },
   "source": [
    "### Part A\n",
    "\n",
    "In this part, you'll be given three lists: X coordinates, Y coordinates, and Z coordinates. Therefore, the first data point in this 3D space is `(X[0], Y[0], Z[0])`; the second one is `(X[1], Y[1], Z[1])`, and so on. You will need to use these coordinates and compute the *magnitudes* of the vectors they form.\n",
    "\n",
    "Recall that a 2D, 3D or any-D point in space can also be represented as a vector, and vectors have *lengths*, or magnitudes. This length can be computed using the Euclidean distance function:\n",
    "\n",
    "$$\n",
    "d = \\sqrt{x^2 + y^2 + z^2}\n",
    "$$\n",
    "\n",
    "Recall that you can compute exponents in Python using the `**` operator.\n",
    "\n",
    "Append these magnitudes to the list `magnitudes`.\n",
    "\n",
    "**No imports allowed!**"
   ]
  },
  {
   "cell_type": "code",
   "execution_count": 196,
   "metadata": {
    "nbgrader": {
     "grade": false,
     "grade_id": "q1a",
     "locked": false,
     "schema_version": 1,
     "solution": true
    }
   },
   "outputs": [],
   "source": [
    "def compute_3dmagnitudes(X, Y, Z):\n",
    "    magnitudes = []\n",
    "    \n",
    "    ### BEGIN SOLUTION\n",
    "    total=0\n",
    "    for i in range(len(X)):\n",
    "        a=X[i]\n",
    "        for j in range(len(Y)):\n",
    "            b=Y[j]\n",
    "            total+=(a**2+b**2)\n",
    "            for k in range(len(Z)):\n",
    "                c=Z[k]\n",
    "                total+=c**2\n",
    "                total=total**0.5\n",
    "        magnitudes.append(total)\n",
    "    ### END SOLUTION\n",
    "    \n",
    "    return magnitudes\n"
   ]
  },
  {
   "cell_type": "code",
   "execution_count": 197,
   "metadata": {
    "nbgrader": {
     "grade": true,
     "grade_id": "q1a_test1",
     "locked": true,
     "points": 10,
     "schema_version": 1,
     "solution": false
    }
   },
   "outputs": [
    {
     "ename": "AssertionError",
     "evalue": "\nNot equal to tolerance rtol=1e-07, atol=0\n\nMismatched elements: 3 / 3 (100%)\nMax absolute difference: 1.75859467\nMax relative difference: 0.16507886\n x: array([9.465145, 9.465614, 9.466377])\n y: array([ 8.124038,  9.643651, 11.224972])",
     "output_type": "error",
     "traceback": [
      "\u001b[1;31m---------------------------------------------------------------------------\u001b[0m",
      "\u001b[1;31mAssertionError\u001b[0m                            Traceback (most recent call last)",
      "\u001b[1;32m~\\AppData\\Local\\Temp/ipykernel_3820/812189884.py\u001b[0m in \u001b[0;36m<module>\u001b[1;34m\u001b[0m\n\u001b[0;32m      5\u001b[0m \u001b[0mz1\u001b[0m \u001b[1;33m=\u001b[0m \u001b[1;33m[\u001b[0m\u001b[1;36m7\u001b[0m\u001b[1;33m,\u001b[0m \u001b[1;36m8\u001b[0m\u001b[1;33m,\u001b[0m \u001b[1;36m9\u001b[0m\u001b[1;33m]\u001b[0m\u001b[1;33m\u001b[0m\u001b[1;33m\u001b[0m\u001b[0m\n\u001b[0;32m      6\u001b[0m \u001b[0ma1\u001b[0m \u001b[1;33m=\u001b[0m \u001b[1;33m[\u001b[0m\u001b[1;36m8.12403840463596\u001b[0m\u001b[1;33m,\u001b[0m \u001b[1;36m9.643650760992955\u001b[0m\u001b[1;33m,\u001b[0m \u001b[1;36m11.224972160321824\u001b[0m\u001b[1;33m]\u001b[0m\u001b[1;33m\u001b[0m\u001b[1;33m\u001b[0m\u001b[0m\n\u001b[1;32m----> 7\u001b[1;33m \u001b[0mt\u001b[0m\u001b[1;33m.\u001b[0m\u001b[0massert_allclose\u001b[0m\u001b[1;33m(\u001b[0m\u001b[0mcompute_3dmagnitudes\u001b[0m\u001b[1;33m(\u001b[0m\u001b[0mx1\u001b[0m\u001b[1;33m,\u001b[0m \u001b[0my1\u001b[0m\u001b[1;33m,\u001b[0m \u001b[0mz1\u001b[0m\u001b[1;33m)\u001b[0m\u001b[1;33m,\u001b[0m \u001b[0ma1\u001b[0m\u001b[1;33m)\u001b[0m\u001b[1;33m\u001b[0m\u001b[1;33m\u001b[0m\u001b[0m\n\u001b[0m",
      "    \u001b[1;31m[... skipping hidden 1 frame]\u001b[0m\n",
      "\u001b[1;32m~\\anaconda3\\lib\\site-packages\\numpy\\testing\\_private\\utils.py\u001b[0m in \u001b[0;36massert_array_compare\u001b[1;34m(comparison, x, y, err_msg, verbose, header, precision, equal_nan, equal_inf)\u001b[0m\n\u001b[0;32m    840\u001b[0m                                 \u001b[0mverbose\u001b[0m\u001b[1;33m=\u001b[0m\u001b[0mverbose\u001b[0m\u001b[1;33m,\u001b[0m \u001b[0mheader\u001b[0m\u001b[1;33m=\u001b[0m\u001b[0mheader\u001b[0m\u001b[1;33m,\u001b[0m\u001b[1;33m\u001b[0m\u001b[1;33m\u001b[0m\u001b[0m\n\u001b[0;32m    841\u001b[0m                                 names=('x', 'y'), precision=precision)\n\u001b[1;32m--> 842\u001b[1;33m             \u001b[1;32mraise\u001b[0m \u001b[0mAssertionError\u001b[0m\u001b[1;33m(\u001b[0m\u001b[0mmsg\u001b[0m\u001b[1;33m)\u001b[0m\u001b[1;33m\u001b[0m\u001b[1;33m\u001b[0m\u001b[0m\n\u001b[0m\u001b[0;32m    843\u001b[0m     \u001b[1;32mexcept\u001b[0m \u001b[0mValueError\u001b[0m\u001b[1;33m:\u001b[0m\u001b[1;33m\u001b[0m\u001b[1;33m\u001b[0m\u001b[0m\n\u001b[0;32m    844\u001b[0m         \u001b[1;32mimport\u001b[0m \u001b[0mtraceback\u001b[0m\u001b[1;33m\u001b[0m\u001b[1;33m\u001b[0m\u001b[0m\n",
      "\u001b[1;31mAssertionError\u001b[0m: \nNot equal to tolerance rtol=1e-07, atol=0\n\nMismatched elements: 3 / 3 (100%)\nMax absolute difference: 1.75859467\nMax relative difference: 0.16507886\n x: array([9.465145, 9.465614, 9.466377])\n y: array([ 8.124038,  9.643651, 11.224972])"
     ]
    }
   ],
   "source": [
    "import numpy.testing as t\n",
    "\n",
    "x1 = [1, 2, 3]\n",
    "y1 = [4, 5, 6]\n",
    "z1 = [7, 8, 9]\n",
    "a1 = [8.12403840463596, 9.643650760992955, 11.224972160321824]\n",
    "t.assert_allclose(compute_3dmagnitudes(x1, y1, z1), a1)"
   ]
  },
  {
   "cell_type": "code",
   "execution_count": 198,
   "metadata": {
    "nbgrader": {
     "grade": true,
     "grade_id": "q1a_test2",
     "locked": true,
     "points": 10,
     "schema_version": 1,
     "solution": false
    }
   },
   "outputs": [
    {
     "ename": "AssertionError",
     "evalue": "\nNot equal to tolerance rtol=1e-07, atol=0\n\nMismatched elements: 10 / 10 (100%)\nMax absolute difference: 138.64806466\nMax relative difference: 0.88529187\n x: array([17.964766, 17.964766, 17.964766, 17.964766, 17.964766, 17.964766,\n       17.964766, 17.964766, 17.964766, 17.964766])\n y: array([104.344049,  89.928161,  64.109586, 112.837987,  67.327326,\n       156.61283 , 110.658544,  58.060895, 102.947623, 134.910206])",
     "output_type": "error",
     "traceback": [
      "\u001b[1;31m---------------------------------------------------------------------------\u001b[0m",
      "\u001b[1;31mAssertionError\u001b[0m                            Traceback (most recent call last)",
      "\u001b[1;32m~\\AppData\\Local\\Temp/ipykernel_3820/300312600.py\u001b[0m in \u001b[0;36m<module>\u001b[1;34m\u001b[0m\n\u001b[0;32m      3\u001b[0m \u001b[0mz2\u001b[0m \u001b[1;33m=\u001b[0m \u001b[1;33m[\u001b[0m \u001b[1;36m12.72332579\u001b[0m\u001b[1;33m,\u001b[0m  \u001b[1;36m22.04915914\u001b[0m\u001b[1;33m,\u001b[0m  \u001b[1;36m48.91187418\u001b[0m\u001b[1;33m,\u001b[0m  \u001b[1;36m24.43381236\u001b[0m\u001b[1;33m,\u001b[0m \u001b[1;36m63.35006599\u001b[0m\u001b[1;33m,\u001b[0m  \u001b[1;36m97.43294649\u001b[0m\u001b[1;33m,\u001b[0m  \u001b[1;36m42.61849556\u001b[0m\u001b[1;33m,\u001b[0m  \u001b[1;36m39.79723282\u001b[0m\u001b[1;33m,\u001b[0m \u001b[1;36m44.2374771\u001b[0m \u001b[1;33m,\u001b[0m  \u001b[1;36m16.67458157\u001b[0m\u001b[1;33m]\u001b[0m\u001b[1;33m\u001b[0m\u001b[1;33m\u001b[0m\u001b[0m\n\u001b[0;32m      4\u001b[0m \u001b[0ma2\u001b[0m \u001b[1;33m=\u001b[0m \u001b[1;33m[\u001b[0m\u001b[1;36m104.34404939309736\u001b[0m\u001b[1;33m,\u001b[0m\u001b[1;36m89.92816104193963\u001b[0m\u001b[1;33m,\u001b[0m\u001b[1;36m64.10958621524445\u001b[0m\u001b[1;33m,\u001b[0m\u001b[1;36m112.83798656043598\u001b[0m\u001b[1;33m,\u001b[0m\u001b[1;36m67.32732595675537\u001b[0m\u001b[1;33m,\u001b[0m\u001b[1;36m156.61283032897592\u001b[0m\u001b[1;33m,\u001b[0m\u001b[1;36m110.65854384603286\u001b[0m\u001b[1;33m,\u001b[0m\u001b[1;36m58.06089465866948\u001b[0m\u001b[1;33m,\u001b[0m\u001b[1;36m102.94762304312597\u001b[0m\u001b[1;33m,\u001b[0m\u001b[1;36m134.91020597468528\u001b[0m\u001b[1;33m]\u001b[0m\u001b[1;33m\u001b[0m\u001b[1;33m\u001b[0m\u001b[0m\n\u001b[1;32m----> 5\u001b[1;33m \u001b[0mt\u001b[0m\u001b[1;33m.\u001b[0m\u001b[0massert_allclose\u001b[0m\u001b[1;33m(\u001b[0m\u001b[0mcompute_3dmagnitudes\u001b[0m\u001b[1;33m(\u001b[0m\u001b[0mx2\u001b[0m\u001b[1;33m,\u001b[0m \u001b[0my2\u001b[0m\u001b[1;33m,\u001b[0m \u001b[0mz2\u001b[0m\u001b[1;33m)\u001b[0m\u001b[1;33m,\u001b[0m \u001b[0ma2\u001b[0m\u001b[1;33m)\u001b[0m\u001b[1;33m\u001b[0m\u001b[1;33m\u001b[0m\u001b[0m\n\u001b[0m",
      "    \u001b[1;31m[... skipping hidden 1 frame]\u001b[0m\n",
      "\u001b[1;32m~\\anaconda3\\lib\\site-packages\\numpy\\testing\\_private\\utils.py\u001b[0m in \u001b[0;36massert_array_compare\u001b[1;34m(comparison, x, y, err_msg, verbose, header, precision, equal_nan, equal_inf)\u001b[0m\n\u001b[0;32m    840\u001b[0m                                 \u001b[0mverbose\u001b[0m\u001b[1;33m=\u001b[0m\u001b[0mverbose\u001b[0m\u001b[1;33m,\u001b[0m \u001b[0mheader\u001b[0m\u001b[1;33m=\u001b[0m\u001b[0mheader\u001b[0m\u001b[1;33m,\u001b[0m\u001b[1;33m\u001b[0m\u001b[1;33m\u001b[0m\u001b[0m\n\u001b[0;32m    841\u001b[0m                                 names=('x', 'y'), precision=precision)\n\u001b[1;32m--> 842\u001b[1;33m             \u001b[1;32mraise\u001b[0m \u001b[0mAssertionError\u001b[0m\u001b[1;33m(\u001b[0m\u001b[0mmsg\u001b[0m\u001b[1;33m)\u001b[0m\u001b[1;33m\u001b[0m\u001b[1;33m\u001b[0m\u001b[0m\n\u001b[0m\u001b[0;32m    843\u001b[0m     \u001b[1;32mexcept\u001b[0m \u001b[0mValueError\u001b[0m\u001b[1;33m:\u001b[0m\u001b[1;33m\u001b[0m\u001b[1;33m\u001b[0m\u001b[0m\n\u001b[0;32m    844\u001b[0m         \u001b[1;32mimport\u001b[0m \u001b[0mtraceback\u001b[0m\u001b[1;33m\u001b[0m\u001b[1;33m\u001b[0m\u001b[0m\n",
      "\u001b[1;31mAssertionError\u001b[0m: \nNot equal to tolerance rtol=1e-07, atol=0\n\nMismatched elements: 10 / 10 (100%)\nMax absolute difference: 138.64806466\nMax relative difference: 0.88529187\n x: array([17.964766, 17.964766, 17.964766, 17.964766, 17.964766, 17.964766,\n       17.964766, 17.964766, 17.964766, 17.964766])\n y: array([104.344049,  89.928161,  64.109586, 112.837987,  67.327326,\n       156.61283 , 110.658544,  58.060895, 102.947623, 134.910206])"
     ]
    }
   ],
   "source": [
    "x2 = [ 30.48325629,  43.69168085,   1.77825571,  79.51618164, 18.97152147,  71.22477376,  98.29697101,  41.97578185, 10.61862458,  93.50326655]\n",
    "y2 = [ 98.97761722,  75.44498495,  41.40658662,  76.24025762, 12.64196712,  99.80696952,  27.68903488,   5.02806986, 92.34989725,  95.81159194]\n",
    "z2 = [ 12.72332579,  22.04915914,  48.91187418,  24.43381236, 63.35006599,  97.43294649,  42.61849556,  39.79723282, 44.2374771 ,  16.67458157]\n",
    "a2 = [104.34404939309736,89.92816104193963,64.10958621524445,112.83798656043598,67.32732595675537,156.61283032897592,110.65854384603286,58.06089465866948,102.94762304312597,134.91020597468528]\n",
    "t.assert_allclose(compute_3dmagnitudes(x2, y2, z2), a2)"
   ]
  },
  {
   "cell_type": "markdown",
   "metadata": {
    "nbgrader": {
     "grade": false,
     "grade_id": "q1b_prompt",
     "locked": true,
     "schema_version": 1,
     "solution": false
    }
   },
   "source": [
    "### Part B\n",
    "\n",
    "In this question, you're given two lists: keys and values. Write a loop that uses the `zip` function in order to create a dictionary which contains the specific keys and values.\n",
    "\n",
    "For example, the function `lists_to_dict( [\"one\", \"two\", \"three\"], [1, 2, 3] )` should return a dictionary that looks like:\n",
    "\n",
    "`{\"one\": 1, \"two\": 2, \"three\": 3}`\n",
    "\n",
    "It doesn't matter if, when printed, the key/values are in a different order, so long as the correct keys are paired with the correct values.\n",
    "\n",
    "**Sorry, using `dict()` is not allowed.** It's a great function that would answer this question in one line, but you can't use it here."
   ]
  },
  {
   "cell_type": "code",
   "execution_count": 22,
   "metadata": {
    "nbgrader": {
     "grade": false,
     "grade_id": "q1b",
     "locked": false,
     "schema_version": 1,
     "solution": true
    }
   },
   "outputs": [],
   "source": [
    "def lists_to_dict(keys, values):\n",
    "    new_dict = {}\n",
    "    \n",
    "    ### BEGIN SOLUTION\n",
    "    return {keys[i]:values[i] for i in range(len(keys))}\n",
    "    ### END SOLUTION\n",
    "    \n",
    "    return new_dict"
   ]
  },
  {
   "cell_type": "code",
   "execution_count": 99,
   "metadata": {
    "nbgrader": {
     "grade": true,
     "grade_id": "q1b_test1",
     "locked": true,
     "points": 10,
     "schema_version": 1,
     "solution": false
    }
   },
   "outputs": [],
   "source": [
    "k1 = [\"1\", \"2\", \"3\"]\n",
    "v1 = [\"one\", \"two\", \"three\"]\n",
    "a1 = set({(k1[0], v1[0]), (k1[1], v1[1]), (k1[2], v1[2])})\n",
    "assert a1 == set(lists_to_dict(k1, v1).items())"
   ]
  },
  {
   "cell_type": "code",
   "execution_count": 100,
   "metadata": {
    "nbgrader": {
     "grade": true,
     "grade_id": "q1b_test2",
     "locked": true,
     "points": 10,
     "schema_version": 1,
     "solution": false
    }
   },
   "outputs": [],
   "source": [
    "k2 = [\"wat1\", \"wat2\", \"wat3\", \"wat4\", \"wat5\"]\n",
    "v2 = [1, 2, 3, 4, 5]\n",
    "a2 = set({(k2[0], v2[0]), (k2[1], v2[1]), (k2[2], v2[2]), (k2[3], v2[3]), (k2[4], v2[4])})\n",
    "assert a2 == set(lists_to_dict(k2, v2).items())"
   ]
  }
 ],
 "metadata": {
  "anaconda-cloud": {},
  "celltoolbar": "Create Assignment",
  "kernelspec": {
   "display_name": "Python 3 (ipykernel)",
   "language": "python",
   "name": "python3"
  },
  "language_info": {
   "codemirror_mode": {
    "name": "ipython",
    "version": 3
   },
   "file_extension": ".py",
   "mimetype": "text/x-python",
   "name": "python",
   "nbconvert_exporter": "python",
   "pygments_lexer": "ipython3",
   "version": "3.9.7"
  }
 },
 "nbformat": 4,
 "nbformat_minor": 1
}
